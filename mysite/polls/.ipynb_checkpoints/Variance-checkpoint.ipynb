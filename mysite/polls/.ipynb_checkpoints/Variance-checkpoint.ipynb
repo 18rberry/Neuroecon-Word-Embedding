{
 "cells": [
  {
   "cell_type": "code",
   "execution_count": 4,
   "metadata": {
    "collapsed": true
   },
   "outputs": [],
   "source": [
    "from IPython.core.interactiveshell import InteractiveShell\n",
    "InteractiveShell.ast_node_interactivity = \"all\"\n",
    "import numpy as np\n",
    "import pandas as pd\n",
    "from numpy.linalg import svd\n",
    "from sklearn.decomposition import PCA\n",
    "from sklearn.decomposition import TruncatedSVD"
   ]
  },
  {
   "cell_type": "code",
   "execution_count": 5,
   "metadata": {},
   "outputs": [
    {
     "data": {
      "text/plain": [
       "array([[0.22, 0.63, 0.58, 0.07, 0.13, 0.55, 0.23, 0.28],\n",
       "       [0.11, 0.42, 0.23, 0.16, 0.76, 0.27, 0.79, 0.47],\n",
       "       [0.06, 0.91, 0.14, 0.83, 0.41, 0.04, 0.42, 0.61],\n",
       "       [0.12, 0.15, 0.1 , 0.53, 0.76, 0.6 , 0.5 , 0.37],\n",
       "       [0.01, 0.4 , 0.99, 0.43, 0.02, 0.48, 0.23, 0.99]])"
      ]
     },
     "execution_count": 5,
     "metadata": {},
     "output_type": "execute_result"
    },
    {
     "data": {
      "text/plain": [
       "array([[ 0.11,  0.13,  0.17, -0.34, -0.29,  0.16, -0.21, -0.26],\n",
       "       [ 0.  , -0.08, -0.18, -0.24,  0.34, -0.11,  0.36, -0.08],\n",
       "       [-0.04,  0.41, -0.27,  0.42, -0.01, -0.35, -0.02,  0.07],\n",
       "       [ 0.02, -0.35, -0.31,  0.13,  0.34,  0.21,  0.06, -0.18],\n",
       "       [-0.09, -0.11,  0.59,  0.03, -0.39,  0.1 , -0.2 ,  0.45]])"
      ]
     },
     "execution_count": 5,
     "metadata": {},
     "output_type": "execute_result"
    }
   ],
   "source": [
    "X = np.random.random((5, 8))\n",
    "X.round(2)\n",
    "\n",
    "X_0mean = X - X.mean(0)\n",
    "X_0mean.round(2)"
   ]
  },
  {
   "cell_type": "code",
   "execution_count": 10,
   "metadata": {},
   "outputs": [
    {
     "ename": "AttributeError",
     "evalue": "'PCA' object has no attribute 'explained_variance_'",
     "output_type": "error",
     "traceback": [
      "\u001b[0;31m---------------------------------------------------------------------------\u001b[0m",
      "\u001b[0;31mAttributeError\u001b[0m                            Traceback (most recent call last)",
      "\u001b[0;32m<ipython-input-10-02c7e96985fb>\u001b[0m in \u001b[0;36m<module>\u001b[0;34m()\u001b[0m\n\u001b[1;32m      1\u001b[0m \u001b[0mpca\u001b[0m \u001b[0;34m=\u001b[0m \u001b[0mPCA\u001b[0m\u001b[0;34m(\u001b[0m\u001b[0mn_components\u001b[0m\u001b[0;34m=\u001b[0m\u001b[0;36m2\u001b[0m\u001b[0;34m)\u001b[0m\u001b[0;34m\u001b[0m\u001b[0m\n\u001b[0;32m----> 2\u001b[0;31m \u001b[0mpca\u001b[0m\u001b[0;34m.\u001b[0m\u001b[0mexplained_variance_\u001b[0m\u001b[0;34m\u001b[0m\u001b[0m\n\u001b[0m\u001b[1;32m      3\u001b[0m \u001b[0;34m\u001b[0m\u001b[0m\n",
      "\u001b[0;31mAttributeError\u001b[0m: 'PCA' object has no attribute 'explained_variance_'"
     ]
    }
   ],
   "source": [
    "pca = PCA(n_components=2)\n",
    "pca.fit(X)\n",
    "X_transformed = pca.fit_transform(X)\n",
    "pca.explained_variance_\n",
    "\n"
   ]
  }
 ],
 "metadata": {
  "kernelspec": {
   "display_name": "Python 3",
   "language": "python",
   "name": "python3"
  },
  "language_info": {
   "codemirror_mode": {
    "name": "ipython",
    "version": 3
   },
   "file_extension": ".py",
   "mimetype": "text/x-python",
   "name": "python",
   "nbconvert_exporter": "python",
   "pygments_lexer": "ipython3",
   "version": "3.6.3"
  }
 },
 "nbformat": 4,
 "nbformat_minor": 2
}
